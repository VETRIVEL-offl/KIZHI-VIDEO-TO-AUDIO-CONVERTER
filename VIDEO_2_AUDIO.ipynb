{
 "cells": [
  {
   "cell_type": "code",
   "execution_count": 1,
   "id": "2c222d43",
   "metadata": {},
   "outputs": [
    {
     "name": "stdout",
     "output_type": "stream",
     "text": [
      "* Running on local URL:  http://127.0.0.1:7860\n",
      "\n",
      "To create a public link, set `share=True` in `launch()`.\n"
     ]
    },
    {
     "data": {
      "text/html": [
       "<div><iframe src=\"http://127.0.0.1:7860/\" width=\"100%\" height=\"500\" allow=\"autoplay; camera; microphone; clipboard-read; clipboard-write;\" frameborder=\"0\" allowfullscreen></iframe></div>"
      ],
      "text/plain": [
       "<IPython.core.display.HTML object>"
      ]
     },
     "metadata": {},
     "output_type": "display_data"
    },
    {
     "data": {
      "text/plain": []
     },
     "execution_count": 1,
     "metadata": {},
     "output_type": "execute_result"
    },
    {
     "name": "stderr",
     "output_type": "stream",
     "text": [
      "Traceback (most recent call last):\n",
      "  File \"C:\\Users\\Vetrivel M\\AppData\\Local\\Temp\\ipykernel_14612\\249834277.py\", line 27, in convert_videos\n",
      "    .input(temp_input_path)\n",
      "     ^^^^^\n",
      "AttributeError: module 'ffmpeg' has no attribute 'input'\n",
      "\n",
      "During handling of the above exception, another exception occurred:\n",
      "\n",
      "Traceback (most recent call last):\n",
      "  File \"c:\\Users\\Public\\Anaconda\\Lib\\site-packages\\gradio\\queueing.py\", line 625, in process_events\n",
      "    response = await route_utils.call_process_api(\n",
      "               ^^^^^^^^^^^^^^^^^^^^^^^^^^^^^^^^^^^\n",
      "  File \"c:\\Users\\Public\\Anaconda\\Lib\\site-packages\\gradio\\route_utils.py\", line 322, in call_process_api\n",
      "    output = await app.get_blocks().process_api(\n",
      "             ^^^^^^^^^^^^^^^^^^^^^^^^^^^^^^^^^^^\n",
      "  File \"c:\\Users\\Public\\Anaconda\\Lib\\site-packages\\gradio\\blocks.py\", line 2136, in process_api\n",
      "    result = await self.call_function(\n",
      "             ^^^^^^^^^^^^^^^^^^^^^^^^^\n",
      "  File \"c:\\Users\\Public\\Anaconda\\Lib\\site-packages\\gradio\\blocks.py\", line 1662, in call_function\n",
      "    prediction = await anyio.to_thread.run_sync(  # type: ignore\n",
      "                 ^^^^^^^^^^^^^^^^^^^^^^^^^^^^^^^^^^^^^^^^^^^^^^^\n",
      "  File \"c:\\Users\\Public\\Anaconda\\Lib\\site-packages\\anyio\\to_thread.py\", line 56, in run_sync\n",
      "    return await get_async_backend().run_sync_in_worker_thread(\n",
      "           ^^^^^^^^^^^^^^^^^^^^^^^^^^^^^^^^^^^^^^^^^^^^^^^^^^^^\n",
      "  File \"c:\\Users\\Public\\Anaconda\\Lib\\site-packages\\anyio\\_backends\\_asyncio.py\", line 2134, in run_sync_in_worker_thread\n",
      "    return await future\n",
      "           ^^^^^^^^^^^^\n",
      "  File \"c:\\Users\\Public\\Anaconda\\Lib\\site-packages\\anyio\\_backends\\_asyncio.py\", line 851, in run\n",
      "    result = context.run(func, *args)\n",
      "             ^^^^^^^^^^^^^^^^^^^^^^^^\n",
      "  File \"c:\\Users\\Public\\Anaconda\\Lib\\site-packages\\gradio\\utils.py\", line 884, in wrapper\n",
      "    response = f(*args, **kwargs)\n",
      "               ^^^^^^^^^^^^^^^^^^\n",
      "  File \"C:\\Users\\Vetrivel M\\AppData\\Local\\Temp\\ipykernel_14612\\249834277.py\", line 41, in convert_videos\n",
      "    except ffmpeg.Error as e:\n",
      "           ^^^^^^^^^^^^\n",
      "AttributeError: module 'ffmpeg' has no attribute 'Error'\n"
     ]
    }
   ],
   "source": [
    "import gradio as gr\n",
    "import ffmpeg\n",
    "import tempfile\n",
    "import os\n",
    "import shutil\n",
    "\n",
    "# Function to convert videos to audio\n",
    "def convert_videos(files, format_choice):\n",
    "    output_files = []\n",
    "    progress_messages = []\n",
    "\n",
    "    total_videos = len(files)\n",
    "    for idx, f in enumerate(files, start=1):\n",
    "        # Copy uploaded temp file to a proper path\n",
    "        temp_input_path = tempfile.NamedTemporaryFile(delete=False, suffix=os.path.splitext(f.name)[1]).name\n",
    "        shutil.copy(f.name, temp_input_path)\n",
    "\n",
    "        # Original filename without extension\n",
    "        base_name = os.path.splitext(os.path.basename(f.name))[0]\n",
    "        # Temporary audio file with correct name\n",
    "        tmp_audio_path = os.path.join(tempfile.gettempdir(), f\"{base_name}.{format_choice}\")\n",
    "\n",
    "        try:\n",
    "            if format_choice == \"mp3\":\n",
    "                (\n",
    "                    ffmpeg\n",
    "                    .input(temp_input_path)\n",
    "                    .output(tmp_audio_path, format='mp3', acodec='libmp3lame', audio_bitrate='192k')\n",
    "                    .run(quiet=True, overwrite_output=True)\n",
    "                )\n",
    "            elif format_choice == \"wav\":\n",
    "                (\n",
    "                    ffmpeg\n",
    "                    .input(temp_input_path)\n",
    "                    .output(tmp_audio_path, format='wav', acodec='pcm_s16le')\n",
    "                    .run(quiet=True, overwrite_output=True)\n",
    "                )\n",
    "\n",
    "            progress_messages.append(f\"Processed {idx}/{total_videos}: {os.path.basename(f.name)} → {base_name}.{format_choice}\")\n",
    "            output_files.append(tmp_audio_path)\n",
    "        except ffmpeg.Error as e:\n",
    "            progress_messages.append(f\"Failed {idx}/{total_videos}: {os.path.basename(f.name)} - {e}\")\n",
    "        finally:\n",
    "            os.remove(temp_input_path)  # Clean up temp input\n",
    "\n",
    "    return \"\\n\".join(progress_messages), output_files\n",
    "\n",
    "# Gradio Interface\n",
    "with gr.Blocks(title=\"KIZHI VIDEO TO AUDIO CONVERTER\") as demo:\n",
    "    gr.Markdown(\"\"\"\n",
    "    <h1 style=\"color:#00ffff;\">KIZHI VIDEO TO AUDIO CONVERTER</h1>\n",
    "    <p style=\"color:white;\">Developed by <b>VETRIVEL M</b> | <a href='https://github.com/VETRIVEL-offl'>GitHub</a></p>\n",
    "    <p style=\"color:white;\">Upload one or multiple videos. The audio files will keep the same name as the videos.</p>\n",
    "    \"\"\")\n",
    "\n",
    "    with gr.Row():\n",
    "        with gr.Column():\n",
    "            video_input = gr.Files(label=\"Drag & Drop Video(s) Here\", \n",
    "                                   file_types=[\".mp4\",\".mkv\",\".avi\",\".mov\",\".flv\",\".wmv\",\".webm\",\".mpeg\",\".mpg\",\".m4v\"])\n",
    "            format_choice = gr.Dropdown([\"mp3\",\"wav\"], label=\"Select Audio Format\", value=\"mp3\")\n",
    "            convert_btn = gr.Button(\"▶ Convert Videos\")\n",
    "        with gr.Column():\n",
    "            progress_text = gr.Textbox(label=\"Batch Progress\", interactive=False, lines=8)\n",
    "            download_files = gr.Files(label=\"Download Audio\")  # Individual files\n",
    "\n",
    "    convert_btn.click(fn=convert_videos, inputs=[video_input, format_choice], outputs=[progress_text, download_files])\n",
    "\n",
    "demo.launch()\n"
   ]
  }
 ],
 "metadata": {
  "kernelspec": {
   "display_name": "Python 3",
   "language": "python",
   "name": "python3"
  },
  "language_info": {
   "codemirror_mode": {
    "name": "ipython",
    "version": 3
   },
   "file_extension": ".py",
   "mimetype": "text/x-python",
   "name": "python",
   "nbconvert_exporter": "python",
   "pygments_lexer": "ipython3",
   "version": "3.12.3"
  }
 },
 "nbformat": 4,
 "nbformat_minor": 5
}
